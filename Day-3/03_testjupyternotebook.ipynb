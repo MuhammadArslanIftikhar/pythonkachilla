{
 "cells": [
  {
   "cell_type": "markdown",
   "id": "3637148c",
   "metadata": {},
   "source": [
    "# Python ka chilla with Baba Aammar\n",
    "## How to use Jupyter Notebook\n",
    "### Basics of Python\n",
    "**01- My first programme.**"
   ]
  },
  {
   "cell_type": "code",
   "execution_count": 1,
   "id": "c771fec2",
   "metadata": {},
   "outputs": [
    {
     "name": "stdout",
     "output_type": "stream",
     "text": [
      "5\n",
      "Learning with Baba Aammar\n",
      "My Firs Line of code in python\n"
     ]
    }
   ],
   "source": [
    "#My first code in python\n",
    "print(2+3)\n",
    "print(\"Learning with Baba Aammar\")\n",
    "print(\"My Firs Line of code in python\")"
   ]
  },
  {
   "cell_type": "markdown",
   "id": "efc720d7",
   "metadata": {},
   "source": [
    "**02- Operators.**"
   ]
  },
  {
   "cell_type": "code",
   "execution_count": 2,
   "id": "2548cbc3",
   "metadata": {},
   "outputs": [
    {
     "name": "stdout",
     "output_type": "stream",
     "text": [
      "3\n",
      "2\n",
      "3.0\n",
      "6\n",
      "1\n",
      "3\n",
      "8\n",
      "6.0\n"
     ]
    }
   ],
   "source": [
    "print(2+1)\n",
    "print(3-1)\n",
    "print(6/2)\n",
    "print(2*3)\n",
    "print(13%2)\n",
    "print(6//2)\n",
    "print(2**3)\n",
    "print(2**3/2*3/3+6-4)"
   ]
  }
 ],
 "metadata": {
  "kernelspec": {
   "display_name": "Python 3 (ipykernel)",
   "language": "python",
   "name": "python3"
  },
  "language_info": {
   "codemirror_mode": {
    "name": "ipython",
    "version": 3
   },
   "file_extension": ".py",
   "mimetype": "text/x-python",
   "name": "python",
   "nbconvert_exporter": "python",
   "pygments_lexer": "ipython3",
   "version": "3.9.7"
  }
 },
 "nbformat": 4,
 "nbformat_minor": 5
}
